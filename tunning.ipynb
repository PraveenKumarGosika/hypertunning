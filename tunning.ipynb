{
  "nbformat": 4,
  "nbformat_minor": 0,
  "metadata": {
    "colab": {
      "name": "tunning.ipynb",
      "provenance": [],
      "collapsed_sections": []
    },
    "kernelspec": {
      "name": "python3",
      "display_name": "Python 3"
    },
    "language_info": {
      "name": "python"
    }
  },
  "cells": [
    {
      "cell_type": "code",
      "metadata": {
        "id": "axVcBcR7QZYf"
      },
      "source": [
        "import pandas as pd \n",
        "import numpy as np\n",
        "import seaborn as sns\n",
        "import warnings\n",
        "warnings.filterwarnings('ignore')"
      ],
      "execution_count": 1,
      "outputs": []
    },
    {
      "cell_type": "code",
      "metadata": {
        "id": "TqdGJQwWQqTB"
      },
      "source": [
        "df=pd.read_csv(r'data.csv')"
      ],
      "execution_count": 2,
      "outputs": []
    },
    {
      "cell_type": "code",
      "metadata": {
        "colab": {
          "base_uri": "https://localhost:8080/",
          "height": 195
        },
        "id": "JxnLt2OLQt12",
        "outputId": "f249a755-1bba-4816-da25-e4490503ce60"
      },
      "source": [
        "df.head()"
      ],
      "execution_count": 3,
      "outputs": [
        {
          "output_type": "execute_result",
          "data": {
            "text/html": [
              "<div>\n",
              "<style scoped>\n",
              "    .dataframe tbody tr th:only-of-type {\n",
              "        vertical-align: middle;\n",
              "    }\n",
              "\n",
              "    .dataframe tbody tr th {\n",
              "        vertical-align: top;\n",
              "    }\n",
              "\n",
              "    .dataframe thead th {\n",
              "        text-align: right;\n",
              "    }\n",
              "</style>\n",
              "<table border=\"1\" class=\"dataframe\">\n",
              "  <thead>\n",
              "    <tr style=\"text-align: right;\">\n",
              "      <th></th>\n",
              "      <th>x1</th>\n",
              "      <th>x2</th>\n",
              "      <th>y</th>\n",
              "    </tr>\n",
              "  </thead>\n",
              "  <tbody>\n",
              "    <tr>\n",
              "      <th>0</th>\n",
              "      <td>-119.366669</td>\n",
              "      <td>115.000000</td>\n",
              "      <td>1</td>\n",
              "    </tr>\n",
              "    <tr>\n",
              "      <th>1</th>\n",
              "      <td>-101.108044</td>\n",
              "      <td>97.777159</td>\n",
              "      <td>1</td>\n",
              "    </tr>\n",
              "    <tr>\n",
              "      <th>2</th>\n",
              "      <td>-130.278658</td>\n",
              "      <td>106.767654</td>\n",
              "      <td>1</td>\n",
              "    </tr>\n",
              "    <tr>\n",
              "      <th>3</th>\n",
              "      <td>-114.703415</td>\n",
              "      <td>101.195477</td>\n",
              "      <td>1</td>\n",
              "    </tr>\n",
              "    <tr>\n",
              "      <th>4</th>\n",
              "      <td>-119.366669</td>\n",
              "      <td>115.000000</td>\n",
              "      <td>1</td>\n",
              "    </tr>\n",
              "  </tbody>\n",
              "</table>\n",
              "</div>"
            ],
            "text/plain": [
              "           x1          x2  y\n",
              "0 -119.366669  115.000000  1\n",
              "1 -101.108044   97.777159  1\n",
              "2 -130.278658  106.767654  1\n",
              "3 -114.703415  101.195477  1\n",
              "4 -119.366669  115.000000  1"
            ]
          },
          "metadata": {
            "tags": []
          },
          "execution_count": 3
        }
      ]
    },
    {
      "cell_type": "code",
      "metadata": {
        "colab": {
          "base_uri": "https://localhost:8080/"
        },
        "id": "F2eUPNX7Qwwh",
        "outputId": "78550622-2856-45da-c244-c312262277cc"
      },
      "source": [
        "df.shape"
      ],
      "execution_count": 4,
      "outputs": [
        {
          "output_type": "execute_result",
          "data": {
            "text/plain": [
              "(2227, 3)"
            ]
          },
          "metadata": {
            "tags": []
          },
          "execution_count": 4
        }
      ]
    },
    {
      "cell_type": "markdown",
      "metadata": {
        "id": "caYq3Z2MQ8RJ"
      },
      "source": [
        "# Missing value Treatment"
      ]
    },
    {
      "cell_type": "code",
      "metadata": {
        "colab": {
          "base_uri": "https://localhost:8080/"
        },
        "id": "TTlmybnqQy7t",
        "outputId": "e858d75b-b9e5-443a-8854-273c47dbfdda"
      },
      "source": [
        " df.info()"
      ],
      "execution_count": 5,
      "outputs": [
        {
          "output_type": "stream",
          "text": [
            "<class 'pandas.core.frame.DataFrame'>\n",
            "RangeIndex: 2227 entries, 0 to 2226\n",
            "Data columns (total 3 columns):\n",
            " #   Column  Non-Null Count  Dtype  \n",
            "---  ------  --------------  -----  \n",
            " 0   x1      2222 non-null   float64\n",
            " 1   x2      2224 non-null   float64\n",
            " 2   y       2227 non-null   int64  \n",
            "dtypes: float64(2), int64(1)\n",
            "memory usage: 52.3 KB\n"
          ],
          "name": "stdout"
        }
      ]
    },
    {
      "cell_type": "code",
      "metadata": {
        "id": "Zhf9AMUWRBEC"
      },
      "source": [
        "df['x1'].fillna('nan',inplace=True)"
      ],
      "execution_count": 6,
      "outputs": []
    },
    {
      "cell_type": "code",
      "metadata": {
        "id": "Dvv-26zPREiN"
      },
      "source": [
        "df=df[df['x1']!='nan']"
      ],
      "execution_count": 7,
      "outputs": []
    },
    {
      "cell_type": "code",
      "metadata": {
        "id": "Ko8MiLMiRHF8"
      },
      "source": [
        "df['x2'].fillna('nan',inplace=True)"
      ],
      "execution_count": 8,
      "outputs": []
    },
    {
      "cell_type": "code",
      "metadata": {
        "id": "H_nmar6KRKKJ"
      },
      "source": [
        "df=df[df['x2']!='nan']"
      ],
      "execution_count": 9,
      "outputs": []
    },
    {
      "cell_type": "code",
      "metadata": {
        "colab": {
          "base_uri": "https://localhost:8080/"
        },
        "id": "FdcmbSfERNBs",
        "outputId": "167bedf1-e715-435e-dcd6-944a89b6c9f5"
      },
      "source": [
        "df.isnull().sum()"
      ],
      "execution_count": 10,
      "outputs": [
        {
          "output_type": "execute_result",
          "data": {
            "text/plain": [
              "x1    0\n",
              "x2    0\n",
              "y     0\n",
              "dtype: int64"
            ]
          },
          "metadata": {
            "tags": []
          },
          "execution_count": 10
        }
      ]
    },
    {
      "cell_type": "markdown",
      "metadata": {
        "id": "fm9rrnkQRUh8"
      },
      "source": [
        "# Outlier Treatment"
      ]
    },
    {
      "cell_type": "code",
      "metadata": {
        "colab": {
          "base_uri": "https://localhost:8080/",
          "height": 296
        },
        "id": "_GMAv8yvRPo7",
        "outputId": "61dcf9d3-2f10-4e19-dabe-c8bff0312b87"
      },
      "source": [
        "sns.boxplot(df['x1'])"
      ],
      "execution_count": 11,
      "outputs": [
        {
          "output_type": "execute_result",
          "data": {
            "text/plain": [
              "<matplotlib.axes._subplots.AxesSubplot at 0x7f16ecef3850>"
            ]
          },
          "metadata": {
            "tags": []
          },
          "execution_count": 11
        },
        {
          "output_type": "display_data",
          "data": {
            "image/png": "[encoded data removed]",
            "text/plain": [
              "<Figure size 432x288 with 1 Axes>"
            ]
          },
          "metadata": {
            "tags": [],
            "needs_background": "light"
          }
        }
      ]
    },
    {
      "cell_type": "code",
      "metadata": {
        "colab": {
          "base_uri": "https://localhost:8080/",
          "height": 296
        },
        "id": "8H5691JpRYjy",
        "outputId": "5d80fe65-0968-45ad-9caa-db0ea9a5bbb7"
      },
      "source": [
        "sns.boxplot(df['x2'])"
      ],
      "execution_count": 12,
      "outputs": [
        {
          "output_type": "execute_result",
          "data": {
            "text/plain": [
              "<matplotlib.axes._subplots.AxesSubplot at 0x7f16ecdeeed0>"
            ]
          },
          "metadata": {
            "tags": []
          },
          "execution_count": 12
        },
        {
          "output_type": "display_data",
          "data": {
            "image/png": "[encoded data removed]",
            "text/plain": [
              "<Figure size 432x288 with 1 Axes>"
            ]
          },
          "metadata": {
            "tags": [],
            "needs_background": "light"
          }
        }
      ]
    },
    {
      "cell_type": "code",
      "metadata": {
        "id": "OvcrE7C3Rbcj"
      },
      "source": [
        "q1=np.percentile(df['x2'],25)"
      ],
      "execution_count": 13,
      "outputs": []
    },
    {
      "cell_type": "code",
      "metadata": {
        "id": "PbYjQjegRmW5"
      },
      "source": [
        "q3=np.percentile(df['x2'],75)"
      ],
      "execution_count": 14,
      "outputs": []
    },
    {
      "cell_type": "code",
      "metadata": {
        "id": "QpJ-IyJNRqHg"
      },
      "source": [
        "IQR=q3-q1"
      ],
      "execution_count": 15,
      "outputs": []
    },
    {
      "cell_type": "code",
      "metadata": {
        "colab": {
          "base_uri": "https://localhost:8080/"
        },
        "id": "D1-EzLewRtpY",
        "outputId": "867a2131-af91-48f2-ac6a-961b447f1896"
      },
      "source": [
        "IQR"
      ],
      "execution_count": 16,
      "outputs": [
        {
          "output_type": "execute_result",
          "data": {
            "text/plain": [
              "144.164140905"
            ]
          },
          "metadata": {
            "tags": []
          },
          "execution_count": 16
        }
      ]
    },
    {
      "cell_type": "code",
      "metadata": {
        "id": "0xoEZN5hRvGH"
      },
      "source": [
        "higherbound=q3+(1.5*IQR)"
      ],
      "execution_count": 17,
      "outputs": []
    },
    {
      "cell_type": "code",
      "metadata": {
        "id": "c86IQlq_RzvS"
      },
      "source": [
        "df['x2']=df['x2'].apply(lambda x: higherbound if x>higherbound else x)"
      ],
      "execution_count": 18,
      "outputs": []
    },
    {
      "cell_type": "code",
      "metadata": {
        "colab": {
          "base_uri": "https://localhost:8080/",
          "height": 296
        },
        "id": "Hc5lWK2JR3nB",
        "outputId": "aa29ca2f-ef3c-4ed6-8bba-44c7f5c17411"
      },
      "source": [
        "sns.boxplot(df['x2'])"
      ],
      "execution_count": 19,
      "outputs": [
        {
          "output_type": "execute_result",
          "data": {
            "text/plain": [
              "<matplotlib.axes._subplots.AxesSubplot at 0x7f16ecee9990>"
            ]
          },
          "metadata": {
            "tags": []
          },
          "execution_count": 19
        },
        {
          "output_type": "display_data",
          "data": {
            "image/png": "[encoded data removed]",
            "text/plain": [
              "<Figure size 432x288 with 1 Axes>"
            ]
          },
          "metadata": {
            "tags": [],
            "needs_background": "light"
          }
        }
      ]
    },
    {
      "cell_type": "markdown",
      "metadata": {
        "id": "__aEWC2kSAKB"
      },
      "source": [
        "# Visualization"
      ]
    },
    {
      "cell_type": "code",
      "metadata": {
        "colab": {
          "base_uri": "https://localhost:8080/",
          "height": 296
        },
        "id": "TraX_ZWbR7Fi",
        "outputId": "bc060b6e-ec07-472b-b7d4-f9d913b0e276"
      },
      "source": [
        "sns.barplot(data=df,x=df['y'],y=df['x1'])"
      ],
      "execution_count": 21,
      "outputs": [
        {
          "output_type": "execute_result",
          "data": {
            "text/plain": [
              "<matplotlib.axes._subplots.AxesSubplot at 0x7f16ec902d10>"
            ]
          },
          "metadata": {
            "tags": []
          },
          "execution_count": 21
        },
        {
          "output_type": "display_data",
          "data": {
            "image/png": "[encoded data removed]",
            "text/plain": [
              "<Figure size 432x288 with 1 Axes>"
            ]
          },
          "metadata": {
            "tags": [],
            "needs_background": "light"
          }
        }
      ]
    },
    {
      "cell_type": "markdown",
      "metadata": {
        "id": "GPuO1PSbSJxP"
      },
      "source": [
        "you can see clear distinction of y based on x1 values(i.e, negative values have 1 value whereas positive values have 0 values of y)"
      ]
    },
    {
      "cell_type": "code",
      "metadata": {
        "colab": {
          "base_uri": "https://localhost:8080/",
          "height": 296
        },
        "id": "Ar1HUcN_R_Kt",
        "outputId": "5c652612-07af-46ad-bd0a-7d0f15ed9835"
      },
      "source": [
        "sns.barplot(data=df,x=df['y'],y=df['x2'])"
      ],
      "execution_count": 22,
      "outputs": [
        {
          "output_type": "execute_result",
          "data": {
            "text/plain": [
              "<matplotlib.axes._subplots.AxesSubplot at 0x7f16ec8c3bd0>"
            ]
          },
          "metadata": {
            "tags": []
          },
          "execution_count": 22
        },
        {
          "output_type": "display_data",
          "data": {
            "image/png": "[encoded data removed]",
            "text/plain": [
              "<Figure size 432x288 with 1 Axes>"
            ]
          },
          "metadata": {
            "tags": [],
            "needs_background": "light"
          }
        }
      ]
    },
    {
      "cell_type": "markdown",
      "metadata": {
        "id": "SzuQlBg2SVkA"
      },
      "source": [
        "This shows that negative values of x2 tends to 0 value of y in given dataframe."
      ]
    },
    {
      "cell_type": "code",
      "metadata": {
        "colab": {
          "base_uri": "https://localhost:8080/",
          "height": 300
        },
        "id": "-w5w2K3JSTnX",
        "outputId": "6773f769-a96d-4d81-c301-042936df4a3e"
      },
      "source": [
        "sns.scatterplot(data=df,x=df['x1'],y=df['x2'],hue=df['y'])"
      ],
      "execution_count": 24,
      "outputs": [
        {
          "output_type": "execute_result",
          "data": {
            "text/plain": [
              "<matplotlib.axes._subplots.AxesSubplot at 0x7f16ec8f4c10>"
            ]
          },
          "metadata": {
            "tags": []
          },
          "execution_count": 24
        },
        {
          "output_type": "display_data",
          "data": {
            "image/png": "[encoded data removed]",
            "text/plain": [
              "<Figure size 432x288 with 1 Axes>"
            ]
          },
          "metadata": {
            "tags": [],
            "needs_background": "light"
          }
        }
      ]
    },
    {
      "cell_type": "markdown",
      "metadata": {
        "id": "UBB0qy5VSdRb"
      },
      "source": [
        "This graph shows that if there is direct proportional relationship between x1 and x2 columns then y value is 0 and if there is inverse proportional relationship between x1 and x2 then y value is 1"
      ]
    },
    {
      "cell_type": "markdown",
      "metadata": {
        "id": "eqvUvp9aSfAU"
      },
      "source": [
        "AND this data is linearly propotional data.But crosses or overlaps each other."
      ]
    },
    {
      "cell_type": "markdown",
      "metadata": {
        "id": "4o0uIe-mSn_t"
      },
      "source": [
        "# Standardization"
      ]
    },
    {
      "cell_type": "code",
      "metadata": {
        "colab": {
          "base_uri": "https://localhost:8080/"
        },
        "id": "xaRqtJyLU5DZ",
        "outputId": "3934ea5f-6e49-49fd-bcbf-2b6f8d27362f"
      },
      "source": [
        "df['y'].value_counts()"
      ],
      "execution_count": 45,
      "outputs": [
        {
          "output_type": "execute_result",
          "data": {
            "text/plain": [
              "0    1238\n",
              "1     981\n",
              "Name: y, dtype: int64"
            ]
          },
          "metadata": {
            "tags": []
          },
          "execution_count": 45
        }
      ]
    },
    {
      "cell_type": "code",
      "metadata": {
        "colab": {
          "base_uri": "https://localhost:8080/"
        },
        "id": "ZX2oroxdSZ5x",
        "outputId": "d9baa2ce-e3da-4e00-a8fe-bdb17cc0111e"
      },
      "source": [
        "from sklearn.preprocessing import StandardScaler\n",
        "standardized_data = StandardScaler().fit_transform(df)\n",
        "print(standardized_data.shape)"
      ],
      "execution_count": 25,
      "outputs": [
        {
          "output_type": "stream",
          "text": [
            "(2219, 3)\n"
          ],
          "name": "stdout"
        }
      ]
    },
    {
      "cell_type": "code",
      "metadata": {
        "id": "4NdbGW4ZSsEj"
      },
      "source": [
        "df_std = pd.DataFrame(standardized_data,columns = df.columns)"
      ],
      "execution_count": 26,
      "outputs": []
    },
    {
      "cell_type": "markdown",
      "metadata": {
        "id": "VZsZ-Ta8Sz3c"
      },
      "source": [
        "# Spliting data"
      ]
    },
    {
      "cell_type": "code",
      "metadata": {
        "id": "A0wzK4FoSvUR"
      },
      "source": [
        "\n",
        "Y =df['y']\n",
        "X=df_std.drop('y',axis=1)"
      ],
      "execution_count": 34,
      "outputs": []
    },
    {
      "cell_type": "code",
      "metadata": {
        "id": "DbN3X997S3w-"
      },
      "source": [
        "from sklearn.model_selection import train_test_split\n",
        "X_train, X_test, y_train, y_test = train_test_split(X, Y, test_size = 0.3, random_state=0)"
      ],
      "execution_count": 35,
      "outputs": []
    },
    {
      "cell_type": "code",
      "metadata": {
        "colab": {
          "base_uri": "https://localhost:8080/"
        },
        "id": "IfAwJtRDS7qM",
        "outputId": "e4070833-72af-4430-cb31-e58373e4c657"
      },
      "source": [
        "print(X_train.shape, y_train.shape)\n",
        "print( X_train.shape, y_test.shape)"
      ],
      "execution_count": 36,
      "outputs": [
        {
          "output_type": "stream",
          "text": [
            "(1553, 2) (1553,)\n",
            "(1553, 2) (666,)\n"
          ],
          "name": "stdout"
        }
      ]
    },
    {
      "cell_type": "markdown",
      "metadata": {
        "id": "ROBk4iNWTHGe"
      },
      "source": [
        "# Hyperparameter Tuning"
      ]
    },
    {
      "cell_type": "markdown",
      "metadata": {
        "id": "zpZD3JraTJ59"
      },
      "source": [
        "Logistic Regression"
      ]
    },
    {
      "cell_type": "code",
      "metadata": {
        "id": "9p_ouaKVTCQQ"
      },
      "source": [
        "from sklearn.model_selection import GridSearchCV, RandomizedSearchCV\n",
        "from sklearn.metrics import classification_report"
      ],
      "execution_count": 31,
      "outputs": []
    },
    {
      "cell_type": "code",
      "metadata": {
        "id": "QN2JUAIwTPmC"
      },
      "source": [
        "from sklearn.linear_model import LogisticRegression"
      ],
      "execution_count": 32,
      "outputs": []
    },
    {
      "cell_type": "code",
      "metadata": {
        "colab": {
          "base_uri": "https://localhost:8080/"
        },
        "id": "U2VlduJETSpd",
        "outputId": "973f0edd-9a64-48e3-ce95-2a855c9baaf4"
      },
      "source": [
        "tuned_parameters = [{'C':[1, 2, 3, 4, 5,6,7,8,9], 'penalty':['l2','l1','l3']}]\n",
        "acc = ['accuracy','precision','recall']                    \n",
        "for i in acc:                   \n",
        "    clf = GridSearchCV( LogisticRegression(), tuned_parameters, scoring='{}'.format(i))\n",
        "\n",
        "    clf.fit(X_train, y_train)\n",
        "\n",
        "    print(\"Best parameters set found on train set:\")\n",
        "    print(clf.best_params_)\n",
        "    print(clf.best_estimator_)\n",
        "    print('scoring {}'.format(i))\n",
        "\n",
        "    print(clf.score(X_test, y_test))"
      ],
      "execution_count": 37,
      "outputs": [
        {
          "output_type": "stream",
          "text": [
            "Best parameters set found on train set:\n",
            "{'C': 1, 'penalty': 'l2'}\n",
            "LogisticRegression(C=1, class_weight=None, dual=False, fit_intercept=True,\n",
            "                   intercept_scaling=1, l1_ratio=None, max_iter=100,\n",
            "                   multi_class='auto', n_jobs=None, penalty='l2',\n",
            "                   random_state=None, solver='lbfgs', tol=0.0001, verbose=0,\n",
            "                   warm_start=False)\n",
            "scoring accuracy\n",
            "0.7657657657657657\n",
            "Best parameters set found on train set:\n",
            "{'C': 1, 'penalty': 'l2'}\n",
            "LogisticRegression(C=1, class_weight=None, dual=False, fit_intercept=True,\n",
            "                   intercept_scaling=1, l1_ratio=None, max_iter=100,\n",
            "                   multi_class='auto', n_jobs=None, penalty='l2',\n",
            "                   random_state=None, solver='lbfgs', tol=0.0001, verbose=0,\n",
            "                   warm_start=False)\n",
            "scoring precision\n",
            "0.9925373134328358\n",
            "Best parameters set found on train set:\n",
            "{'C': 1, 'penalty': 'l2'}\n",
            "LogisticRegression(C=1, class_weight=None, dual=False, fit_intercept=True,\n",
            "                   intercept_scaling=1, l1_ratio=None, max_iter=100,\n",
            "                   multi_class='auto', n_jobs=None, penalty='l2',\n",
            "                   random_state=None, solver='lbfgs', tol=0.0001, verbose=0,\n",
            "                   warm_start=False)\n",
            "scoring recall\n",
            "0.4618055555555556\n"
          ],
          "name": "stdout"
        }
      ]
    },
    {
      "cell_type": "markdown",
      "metadata": {
        "id": "yrsE2XkBVB9H"
      },
      "source": [
        "Support vector machine"
      ]
    },
    {
      "cell_type": "code",
      "metadata": {
        "id": "VTq4h9L5TcrF"
      },
      "source": [
        "from sklearn.svm import SVC\n",
        "from sklearn.model_selection import GridSearchCV, RandomizedSearchCV\n",
        "from sklearn.metrics import classification_report"
      ],
      "execution_count": 38,
      "outputs": []
    },
    {
      "cell_type": "code",
      "metadata": {
        "colab": {
          "base_uri": "https://localhost:8080/"
        },
        "id": "ocuKOBffUMVD",
        "outputId": "605c7580-dd9d-480e-afd1-3ae03c24a229"
      },
      "source": [
        "tuned_parameters = [{'kernel': ['rbf'], 'gamma': np.random.rand(3) , 'C': [1, 10, 100, 1000]},\n",
        "                    {'kernel': ['linear'], 'C': [1, 10, 100, 1000]}]\n",
        "acc = ['accuracy','precision','recall']                    \n",
        "for i in acc:                   \n",
        "    clf = RandomizedSearchCV( SVC(), tuned_parameters, scoring='{}'.format(i))\n",
        "\n",
        "    clf.fit(X_train, y_train)\n",
        "\n",
        "    print(\"Best parameters set found on train set:\")\n",
        "    print(clf.best_params_)\n",
        "    print(clf.best_estimator_)\n",
        "    print('scoring {}'.format(i))\n",
        "\n",
        "    print(clf.score(X_test, y_test))"
      ],
      "execution_count": 39,
      "outputs": [
        {
          "output_type": "stream",
          "text": [
            "Best parameters set found on train set:\n",
            "{'kernel': 'rbf', 'gamma': 0.7219924177728873, 'C': 100}\n",
            "SVC(C=100, break_ties=False, cache_size=200, class_weight=None, coef0=0.0,\n",
            "    decision_function_shape='ovr', degree=3, gamma=0.7219924177728873,\n",
            "    kernel='rbf', max_iter=-1, probability=False, random_state=None,\n",
            "    shrinking=True, tol=0.001, verbose=False)\n",
            "scoring accuracy\n",
            "0.948948948948949\n",
            "Best parameters set found on train set:\n",
            "{'kernel': 'rbf', 'gamma': 0.09991286393643761, 'C': 1}\n",
            "SVC(C=1, break_ties=False, cache_size=200, class_weight=None, coef0=0.0,\n",
            "    decision_function_shape='ovr', degree=3, gamma=0.09991286393643761,\n",
            "    kernel='rbf', max_iter=-1, probability=False, random_state=None,\n",
            "    shrinking=True, tol=0.001, verbose=False)\n",
            "scoring precision\n",
            "1.0\n",
            "Best parameters set found on train set:\n",
            "{'kernel': 'rbf', 'gamma': 0.18339926436539256, 'C': 1000}\n",
            "SVC(C=1000, break_ties=False, cache_size=200, class_weight=None, coef0=0.0,\n",
            "    decision_function_shape='ovr', degree=3, gamma=0.18339926436539256,\n",
            "    kernel='rbf', max_iter=-1, probability=False, random_state=None,\n",
            "    shrinking=True, tol=0.001, verbose=False)\n",
            "scoring recall\n",
            "0.9652777777777778\n"
          ],
          "name": "stdout"
        }
      ]
    },
    {
      "cell_type": "markdown",
      "metadata": {
        "id": "mtDbJ-NkVPBq"
      },
      "source": [
        "DecisionTree"
      ]
    },
    {
      "cell_type": "code",
      "metadata": {
        "id": "vQNIZIzVUQGE"
      },
      "source": [
        "from sklearn.tree import DecisionTreeClassifier"
      ],
      "execution_count": 41,
      "outputs": []
    },
    {
      "cell_type": "code",
      "metadata": {
        "colab": {
          "base_uri": "https://localhost:8080/"
        },
        "id": "GbvSI8IrUeGT",
        "outputId": "2eb56e6f-3d7c-451e-b099-516abf0cf5f9"
      },
      "source": [
        "\n",
        "tuned_parameters = [{'max_depth':[1, 2, 3, 4, 5,6,7,8,9,10]}]\n",
        "acc = ['accuracy','precision','recall']                    \n",
        "for i in acc: \n",
        "    clf = RandomizedSearchCV(\n",
        "        DecisionTreeClassifier(), tuned_parameters, scoring='{}'.format(i))\n",
        "    clf.fit(X_train, y_train)\n",
        "\n",
        "    print(\"Best parameters set found on train set:\")\n",
        "    print(clf.best_params_)\n",
        "    print(clf.best_estimator_)\n",
        "    print('scoring {}'.format(i))\n",
        "\n",
        "    print(clf.score(X_test, y_test))"
      ],
      "execution_count": 42,
      "outputs": [
        {
          "output_type": "stream",
          "text": [
            "Best parameters set found on train set:\n",
            "{'max_depth': 7}\n",
            "DecisionTreeClassifier(ccp_alpha=0.0, class_weight=None, criterion='gini',\n",
            "                       max_depth=7, max_features=None, max_leaf_nodes=None,\n",
            "                       min_impurity_decrease=0.0, min_impurity_split=None,\n",
            "                       min_samples_leaf=1, min_samples_split=2,\n",
            "                       min_weight_fraction_leaf=0.0, presort='deprecated',\n",
            "                       random_state=None, splitter='best')\n",
            "scoring accuracy\n",
            "0.9354354354354354\n",
            "Best parameters set found on train set:\n",
            "{'max_depth': 6}\n",
            "DecisionTreeClassifier(ccp_alpha=0.0, class_weight=None, criterion='gini',\n",
            "                       max_depth=6, max_features=None, max_leaf_nodes=None,\n",
            "                       min_impurity_decrease=0.0, min_impurity_split=None,\n",
            "                       min_samples_leaf=1, min_samples_split=2,\n",
            "                       min_weight_fraction_leaf=0.0, presort='deprecated',\n",
            "                       random_state=None, splitter='best')\n",
            "scoring precision\n",
            "0.9264214046822743\n",
            "Best parameters set found on train set:\n",
            "{'max_depth': 2}\n",
            "DecisionTreeClassifier(ccp_alpha=0.0, class_weight=None, criterion='gini',\n",
            "                       max_depth=2, max_features=None, max_leaf_nodes=None,\n",
            "                       min_impurity_decrease=0.0, min_impurity_split=None,\n",
            "                       min_samples_leaf=1, min_samples_split=2,\n",
            "                       min_weight_fraction_leaf=0.0, presort='deprecated',\n",
            "                       random_state=None, splitter='best')\n",
            "scoring recall\n",
            "0.9722222222222222\n"
          ],
          "name": "stdout"
        }
      ]
    },
    {
      "cell_type": "markdown",
      "metadata": {
        "id": "55FLN3V0VVc8"
      },
      "source": [
        "KNN"
      ]
    },
    {
      "cell_type": "code",
      "metadata": {
        "id": "4lDaBJVYUi0i"
      },
      "source": [
        "from sklearn.neighbors import KNeighborsClassifier"
      ],
      "execution_count": 43,
      "outputs": []
    },
    {
      "cell_type": "code",
      "metadata": {
        "colab": {
          "base_uri": "https://localhost:8080/"
        },
        "id": "YsUBxBoSUqAP",
        "outputId": "d2b6092a-1659-46c4-c938-74dce5eac58d"
      },
      "source": [
        "tuned_parameters = [{'n_neighbors':[1, 2, 3, 4, 5,6,7,8,9,10], 'p':[1, 2, 3]}]\n",
        "acc = ['accuracy','precision','recall']                    \n",
        "for i in acc: \n",
        "    clf = RandomizedSearchCV(\n",
        "        KNeighborsClassifier(), tuned_parameters, scoring='{}'.format(i))\n",
        "    clf.fit(X_train, y_train)\n",
        "\n",
        "    print(\"Best parameters set found on train set:\")\n",
        "    print(clf.best_params_)\n",
        "    print(clf.best_estimator_)\n",
        "    print('scoring {}'.format(i))\n",
        "\n",
        "    print(clf.score(X_test, y_test))"
      ],
      "execution_count": 44,
      "outputs": [
        {
          "output_type": "stream",
          "text": [
            "Best parameters set found on train set:\n",
            "{'p': 2, 'n_neighbors': 9}\n",
            "KNeighborsClassifier(algorithm='auto', leaf_size=30, metric='minkowski',\n",
            "                     metric_params=None, n_jobs=None, n_neighbors=9, p=2,\n",
            "                     weights='uniform')\n",
            "scoring accuracy\n",
            "0.948948948948949\n",
            "Best parameters set found on train set:\n",
            "{'p': 2, 'n_neighbors': 2}\n",
            "KNeighborsClassifier(algorithm='auto', leaf_size=30, metric='minkowski',\n",
            "                     metric_params=None, n_jobs=None, n_neighbors=2, p=2,\n",
            "                     weights='uniform')\n",
            "scoring precision\n",
            "0.9568345323741008\n",
            "Best parameters set found on train set:\n",
            "{'p': 3, 'n_neighbors': 5}\n",
            "KNeighborsClassifier(algorithm='auto', leaf_size=30, metric='minkowski',\n",
            "                     metric_params=None, n_jobs=None, n_neighbors=5, p=3,\n",
            "                     weights='uniform')\n",
            "scoring recall\n",
            "0.9409722222222222\n"
          ],
          "name": "stdout"
        }
      ]
    },
    {
      "cell_type": "markdown",
      "metadata": {
        "id": "hXicy1OZWsQ7"
      },
      "source": [
        "#OBSERVATIONS:"
      ]
    },
    {
      "cell_type": "markdown",
      "metadata": {
        "id": "UFds9yheWxuM"
      },
      "source": [
        "1.If we considering about for all accuracy then SVC with {'kernel': 'rbf', 'gamma': 0.7219924177728873, 'C': 100} and KNN with {'p': 2, 'n_neighbors': 9} are good models.\n",
        "                                    "
      ]
    },
    {
      "cell_type": "markdown",
      "metadata": {
        "id": "NQwT49o9XwI9"
      },
      "source": [
        "2.if we talk about logistic regression it gives less accuracy, because data follows two linear relations and which are overlapping."
      ]
    },
    {
      "cell_type": "markdown",
      "metadata": {
        "id": "3oD1kH1PYzP1"
      },
      "source": [
        "3.if we conserding precision then SVM with {'kernel': 'rbf', 'gamma': 0.18339926436539256, 'C': 1000} and logistic regression with {'C': 1, 'penalty': 'l2'} are better models."
      ]
    },
    {
      "cell_type": "markdown",
      "metadata": {
        "id": "_vC8JmmLZiQe"
      },
      "source": [
        "4.if we considering recall then SVM with {'kernel': 'rbf', 'gamma': 0.18339926436539256, 'C': 1000} and Decision Tree with {'max_depth': 2} are best models."
      ]
    }
  ]
}